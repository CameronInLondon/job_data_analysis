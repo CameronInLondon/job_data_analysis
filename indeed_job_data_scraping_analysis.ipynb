{
 "cells": [
  {
   "cell_type": "markdown",
   "metadata": {},
   "source": [
    "script from here\n",
    "\n",
    "https://www.geeksforgeeks.org/scraping-indeed-job-data-using-python/"
   ]
  },
  {
   "cell_type": "code",
   "execution_count": 89,
   "metadata": {},
   "outputs": [
    {
     "data": {
      "text/html": [
       "<div>\n",
       "<style scoped>\n",
       "    .dataframe tbody tr th:only-of-type {\n",
       "        vertical-align: middle;\n",
       "    }\n",
       "\n",
       "    .dataframe tbody tr th {\n",
       "        vertical-align: top;\n",
       "    }\n",
       "\n",
       "    .dataframe thead th {\n",
       "        text-align: right;\n",
       "    }\n",
       "</style>\n",
       "<table border=\"1\" class=\"dataframe\">\n",
       "  <thead>\n",
       "    <tr style=\"text-align: right;\">\n",
       "      <th></th>\n",
       "      <th>Unnamed: 0</th>\n",
       "      <th>job_title</th>\n",
       "      <th>company_name</th>\n",
       "      <th>company_location</th>\n",
       "      <th>salary</th>\n",
       "    </tr>\n",
       "  </thead>\n",
       "  <tbody>\n",
       "    <tr>\n",
       "      <th>0</th>\n",
       "      <td>0</td>\n",
       "      <td>Data Science Analyst (Remote)</td>\n",
       "      <td>Yelp</td>\n",
       "      <td>Remote in London</td>\n",
       "      <td>No Salary provided</td>\n",
       "    </tr>\n",
       "    <tr>\n",
       "      <th>1</th>\n",
       "      <td>1</td>\n",
       "      <td>Junior Data Scientist / Analyst</td>\n",
       "      <td>EDF Trading</td>\n",
       "      <td>London</td>\n",
       "      <td>No Salary provided</td>\n",
       "    </tr>\n",
       "    <tr>\n",
       "      <th>2</th>\n",
       "      <td>2</td>\n",
       "      <td>Data Analyst (1 year Fixed Term)</td>\n",
       "      <td>LSE Jobs</td>\n",
       "      <td>London WC2A</td>\n",
       "      <td>£37,197 - £44,802 a year</td>\n",
       "    </tr>\n",
       "    <tr>\n",
       "      <th>3</th>\n",
       "      <td>3</td>\n",
       "      <td>Data Analyst</td>\n",
       "      <td>Motorway</td>\n",
       "      <td>London</td>\n",
       "      <td>No Salary provided</td>\n",
       "    </tr>\n",
       "    <tr>\n",
       "      <th>4</th>\n",
       "      <td>4</td>\n",
       "      <td>Product Data Analyst</td>\n",
       "      <td>Metrica Recruitment</td>\n",
       "      <td>North London</td>\n",
       "      <td>£50,000 - £60,000 a year</td>\n",
       "    </tr>\n",
       "    <tr>\n",
       "      <th>...</th>\n",
       "      <td>...</td>\n",
       "      <td>...</td>\n",
       "      <td>...</td>\n",
       "      <td>...</td>\n",
       "      <td>...</td>\n",
       "    </tr>\n",
       "    <tr>\n",
       "      <th>1000</th>\n",
       "      <td>1000</td>\n",
       "      <td>Tax Analyst - Research &amp; Development</td>\n",
       "      <td>Brook Street</td>\n",
       "      <td>Remote in England</td>\n",
       "      <td>£22,000 - £26,000 a year</td>\n",
       "    </tr>\n",
       "    <tr>\n",
       "      <th>1001</th>\n",
       "      <td>1001</td>\n",
       "      <td>Assistant DevOps Engineer</td>\n",
       "      <td>Achilles Therapeutics</td>\n",
       "      <td>Hammersmith W6</td>\n",
       "      <td>No Salary provided</td>\n",
       "    </tr>\n",
       "    <tr>\n",
       "      <th>1002</th>\n",
       "      <td>1002</td>\n",
       "      <td>Salesforce Solutions Architect - FS</td>\n",
       "      <td>PwC</td>\n",
       "      <td>London</td>\n",
       "      <td>No Salary provided</td>\n",
       "    </tr>\n",
       "    <tr>\n",
       "      <th>1003</th>\n",
       "      <td>1003</td>\n",
       "      <td>Paediatrics Occupational Therapist</td>\n",
       "      <td>justot</td>\n",
       "      <td>London</td>\n",
       "      <td>£32,000 - £35,000 a year</td>\n",
       "    </tr>\n",
       "    <tr>\n",
       "      <th>1004</th>\n",
       "      <td>1004</td>\n",
       "      <td>Paediatrics Occupational Therapist</td>\n",
       "      <td>Mediplacements</td>\n",
       "      <td>London</td>\n",
       "      <td>£32,000 - £35,000 a year</td>\n",
       "    </tr>\n",
       "  </tbody>\n",
       "</table>\n",
       "<p>1005 rows × 5 columns</p>\n",
       "</div>"
      ],
      "text/plain": [
       "      Unnamed: 0                             job_title           company_name  \\\n",
       "0              0         Data Science Analyst (Remote)                   Yelp   \n",
       "1              1       Junior Data Scientist / Analyst            EDF Trading   \n",
       "2              2      Data Analyst (1 year Fixed Term)               LSE Jobs   \n",
       "3              3                          Data Analyst               Motorway   \n",
       "4              4                  Product Data Analyst    Metrica Recruitment   \n",
       "...          ...                                   ...                    ...   \n",
       "1000        1000  Tax Analyst - Research & Development           Brook Street   \n",
       "1001        1001             Assistant DevOps Engineer  Achilles Therapeutics   \n",
       "1002        1002   Salesforce Solutions Architect - FS                    PwC   \n",
       "1003        1003    Paediatrics Occupational Therapist                 justot   \n",
       "1004        1004    Paediatrics Occupational Therapist         Mediplacements   \n",
       "\n",
       "       company_location                    salary  \n",
       "0      Remote in London        No Salary provided  \n",
       "1                London        No Salary provided  \n",
       "2           London WC2A  £37,197 - £44,802 a year  \n",
       "3                London        No Salary provided  \n",
       "4          North London  £50,000 - £60,000 a year  \n",
       "...                 ...                       ...  \n",
       "1000  Remote in England  £22,000 - £26,000 a year  \n",
       "1001     Hammersmith W6        No Salary provided  \n",
       "1002             London        No Salary provided  \n",
       "1003             London  £32,000 - £35,000 a year  \n",
       "1004             London  £32,000 - £35,000 a year  \n",
       "\n",
       "[1005 rows x 5 columns]"
      ]
     },
     "execution_count": 89,
     "metadata": {},
     "output_type": "execute_result"
    }
   ],
   "source": [
    "# import module\n",
    "import pandas as pd\n",
    "import numpy as np\n",
    "import re\n",
    "\n",
    "path = r'C:\\Users\\goldsby_c\\OneDrive - Pearson PLC\\Add-hoc analysis projects\\Indeed_job_data\\output\\indeed_jobs_scan.xlsx'\n",
    "df = pd.read_excel(path)\n",
    "df\n"
   ]
  },
  {
   "cell_type": "markdown",
   "metadata": {},
   "source": [
    "### de-dup"
   ]
  },
  {
   "cell_type": "code",
   "execution_count": 90,
   "metadata": {},
   "outputs": [],
   "source": [
    "df = df.drop('Unnamed: 0', axis=1).drop_duplicates()"
   ]
  },
  {
   "cell_type": "markdown",
   "metadata": {},
   "source": [
    "### cleanup salary\n",
    "\n",
    "- extract 'year/hour' and push to new column\n",
    "\n",
    "- Get monitory figures, average if two figures, push to new columm"
   ]
  },
  {
   "cell_type": "code",
   "execution_count": 91,
   "metadata": {},
   "outputs": [
    {
     "data": {
      "text/html": [
       "<div>\n",
       "<style scoped>\n",
       "    .dataframe tbody tr th:only-of-type {\n",
       "        vertical-align: middle;\n",
       "    }\n",
       "\n",
       "    .dataframe tbody tr th {\n",
       "        vertical-align: top;\n",
       "    }\n",
       "\n",
       "    .dataframe thead th {\n",
       "        text-align: right;\n",
       "    }\n",
       "</style>\n",
       "<table border=\"1\" class=\"dataframe\">\n",
       "  <thead>\n",
       "    <tr style=\"text-align: right;\">\n",
       "      <th></th>\n",
       "      <th>job_title</th>\n",
       "      <th>company_name</th>\n",
       "      <th>company_location</th>\n",
       "      <th>salary</th>\n",
       "      <th>salary_time</th>\n",
       "    </tr>\n",
       "  </thead>\n",
       "  <tbody>\n",
       "    <tr>\n",
       "      <th>0</th>\n",
       "      <td>Data Science Analyst (Remote)</td>\n",
       "      <td>Yelp</td>\n",
       "      <td>Remote in London</td>\n",
       "      <td>No Salary provided</td>\n",
       "      <td>NaN</td>\n",
       "    </tr>\n",
       "    <tr>\n",
       "      <th>1</th>\n",
       "      <td>Junior Data Scientist / Analyst</td>\n",
       "      <td>EDF Trading</td>\n",
       "      <td>London</td>\n",
       "      <td>No Salary provided</td>\n",
       "      <td>NaN</td>\n",
       "    </tr>\n",
       "    <tr>\n",
       "      <th>2</th>\n",
       "      <td>Data Analyst (1 year Fixed Term)</td>\n",
       "      <td>LSE Jobs</td>\n",
       "      <td>London WC2A</td>\n",
       "      <td>£37,197 - £44,802 a year</td>\n",
       "      <td>year</td>\n",
       "    </tr>\n",
       "    <tr>\n",
       "      <th>3</th>\n",
       "      <td>Data Analyst</td>\n",
       "      <td>Motorway</td>\n",
       "      <td>London</td>\n",
       "      <td>No Salary provided</td>\n",
       "      <td>NaN</td>\n",
       "    </tr>\n",
       "    <tr>\n",
       "      <th>4</th>\n",
       "      <td>Product Data Analyst</td>\n",
       "      <td>Metrica Recruitment</td>\n",
       "      <td>North London</td>\n",
       "      <td>£50,000 - £60,000 a year</td>\n",
       "      <td>year</td>\n",
       "    </tr>\n",
       "    <tr>\n",
       "      <th>...</th>\n",
       "      <td>...</td>\n",
       "      <td>...</td>\n",
       "      <td>...</td>\n",
       "      <td>...</td>\n",
       "      <td>...</td>\n",
       "    </tr>\n",
       "    <tr>\n",
       "      <th>738</th>\n",
       "      <td>Senior Data Scientist</td>\n",
       "      <td>BP</td>\n",
       "      <td>London EC3N 3AX</td>\n",
       "      <td>No Salary provided</td>\n",
       "      <td>NaN</td>\n",
       "    </tr>\n",
       "    <tr>\n",
       "      <th>755</th>\n",
       "      <td>Data Engineer/ Developer Analyst</td>\n",
       "      <td>BP</td>\n",
       "      <td>London EC3N 3AX</td>\n",
       "      <td>No Salary provided</td>\n",
       "      <td>NaN</td>\n",
       "    </tr>\n",
       "    <tr>\n",
       "      <th>776</th>\n",
       "      <td>Specialty - Head of Software Development</td>\n",
       "      <td>Gallagher</td>\n",
       "      <td>London</td>\n",
       "      <td>No Salary provided</td>\n",
       "      <td>NaN</td>\n",
       "    </tr>\n",
       "    <tr>\n",
       "      <th>804</th>\n",
       "      <td>Global Customer Operations Product Owner</td>\n",
       "      <td>BP</td>\n",
       "      <td>London EC3N 3AX</td>\n",
       "      <td>No Salary provided</td>\n",
       "      <td>NaN</td>\n",
       "    </tr>\n",
       "    <tr>\n",
       "      <th>890</th>\n",
       "      <td>Python Developer</td>\n",
       "      <td>Curve Analytics</td>\n",
       "      <td>London</td>\n",
       "      <td>£35,000 - £55,000 a year</td>\n",
       "      <td>year</td>\n",
       "    </tr>\n",
       "  </tbody>\n",
       "</table>\n",
       "<p>181 rows × 5 columns</p>\n",
       "</div>"
      ],
      "text/plain": [
       "                                    job_title         company_name  \\\n",
       "0               Data Science Analyst (Remote)                 Yelp   \n",
       "1             Junior Data Scientist / Analyst          EDF Trading   \n",
       "2            Data Analyst (1 year Fixed Term)             LSE Jobs   \n",
       "3                                Data Analyst             Motorway   \n",
       "4                        Product Data Analyst  Metrica Recruitment   \n",
       "..                                        ...                  ...   \n",
       "738                     Senior Data Scientist                   BP   \n",
       "755          Data Engineer/ Developer Analyst                   BP   \n",
       "776  Specialty - Head of Software Development            Gallagher   \n",
       "804  Global Customer Operations Product Owner                   BP   \n",
       "890                          Python Developer      Curve Analytics   \n",
       "\n",
       "     company_location                    salary salary_time  \n",
       "0    Remote in London        No Salary provided         NaN  \n",
       "1              London        No Salary provided         NaN  \n",
       "2         London WC2A  £37,197 - £44,802 a year        year  \n",
       "3              London        No Salary provided         NaN  \n",
       "4        North London  £50,000 - £60,000 a year        year  \n",
       "..                ...                       ...         ...  \n",
       "738   London EC3N 3AX        No Salary provided         NaN  \n",
       "755   London EC3N 3AX        No Salary provided         NaN  \n",
       "776            London        No Salary provided         NaN  \n",
       "804   London EC3N 3AX        No Salary provided         NaN  \n",
       "890            London  £35,000 - £55,000 a year        year  \n",
       "\n",
       "[181 rows x 5 columns]"
      ]
     },
     "execution_count": 91,
     "metadata": {},
     "output_type": "execute_result"
    }
   ],
   "source": [
    "df['salary_time'] = df['salary'].str.extract('(year|hour)', flags=re.IGNORECASE)\n",
    "df"
   ]
  },
  {
   "cell_type": "markdown",
   "metadata": {},
   "source": [
    "### get salarys"
   ]
  },
  {
   "cell_type": "code",
   "execution_count": 92,
   "metadata": {},
   "outputs": [
    {
     "data": {
      "text/html": [
       "<div>\n",
       "<style scoped>\n",
       "    .dataframe tbody tr th:only-of-type {\n",
       "        vertical-align: middle;\n",
       "    }\n",
       "\n",
       "    .dataframe tbody tr th {\n",
       "        vertical-align: top;\n",
       "    }\n",
       "\n",
       "    .dataframe thead th {\n",
       "        text-align: right;\n",
       "    }\n",
       "</style>\n",
       "<table border=\"1\" class=\"dataframe\">\n",
       "  <thead>\n",
       "    <tr style=\"text-align: right;\">\n",
       "      <th></th>\n",
       "      <th>sal_min</th>\n",
       "      <th>sal_max</th>\n",
       "      <th>ave_salary</th>\n",
       "    </tr>\n",
       "  </thead>\n",
       "  <tbody>\n",
       "    <tr>\n",
       "      <th>0</th>\n",
       "      <td>NaN</td>\n",
       "      <td>NaN</td>\n",
       "      <td>&lt;NA&gt;</td>\n",
       "    </tr>\n",
       "    <tr>\n",
       "      <th>1</th>\n",
       "      <td>NaN</td>\n",
       "      <td>NaN</td>\n",
       "      <td>&lt;NA&gt;</td>\n",
       "    </tr>\n",
       "    <tr>\n",
       "      <th>2</th>\n",
       "      <td>37197</td>\n",
       "      <td>44802</td>\n",
       "      <td>40999.5</td>\n",
       "    </tr>\n",
       "    <tr>\n",
       "      <th>3</th>\n",
       "      <td>NaN</td>\n",
       "      <td>NaN</td>\n",
       "      <td>&lt;NA&gt;</td>\n",
       "    </tr>\n",
       "    <tr>\n",
       "      <th>4</th>\n",
       "      <td>50000</td>\n",
       "      <td>60000</td>\n",
       "      <td>55000.0</td>\n",
       "    </tr>\n",
       "    <tr>\n",
       "      <th>...</th>\n",
       "      <td>...</td>\n",
       "      <td>...</td>\n",
       "      <td>...</td>\n",
       "    </tr>\n",
       "    <tr>\n",
       "      <th>738</th>\n",
       "      <td>NaN</td>\n",
       "      <td>NaN</td>\n",
       "      <td>&lt;NA&gt;</td>\n",
       "    </tr>\n",
       "    <tr>\n",
       "      <th>755</th>\n",
       "      <td>NaN</td>\n",
       "      <td>NaN</td>\n",
       "      <td>&lt;NA&gt;</td>\n",
       "    </tr>\n",
       "    <tr>\n",
       "      <th>776</th>\n",
       "      <td>NaN</td>\n",
       "      <td>NaN</td>\n",
       "      <td>&lt;NA&gt;</td>\n",
       "    </tr>\n",
       "    <tr>\n",
       "      <th>804</th>\n",
       "      <td>NaN</td>\n",
       "      <td>NaN</td>\n",
       "      <td>&lt;NA&gt;</td>\n",
       "    </tr>\n",
       "    <tr>\n",
       "      <th>890</th>\n",
       "      <td>35000</td>\n",
       "      <td>55000</td>\n",
       "      <td>45000.0</td>\n",
       "    </tr>\n",
       "  </tbody>\n",
       "</table>\n",
       "<p>181 rows × 3 columns</p>\n",
       "</div>"
      ],
      "text/plain": [
       "    sal_min sal_max  ave_salary\n",
       "0       NaN     NaN        <NA>\n",
       "1       NaN     NaN        <NA>\n",
       "2     37197   44802     40999.5\n",
       "3       NaN     NaN        <NA>\n",
       "4     50000   60000     55000.0\n",
       "..      ...     ...         ...\n",
       "738     NaN     NaN        <NA>\n",
       "755     NaN     NaN        <NA>\n",
       "776     NaN     NaN        <NA>\n",
       "804     NaN     NaN        <NA>\n",
       "890   35000   55000     45000.0\n",
       "\n",
       "[181 rows x 3 columns]"
      ]
     },
     "execution_count": 92,
     "metadata": {},
     "output_type": "execute_result"
    }
   ],
   "source": [
    "# extract salaries\n",
    "sal_df = df['salary'].str.findall(r'(?:£)(\\d+[,.]\\d+)').apply(pd.Series).replace('[,.]', '', regex=True).rename({0:'sal_min', 1:'sal_max'}, axis=1)\n",
    "# find average\n",
    "sal_df['ave_salary'] = (pd.to_numeric(sal_df['sal_min'], errors='coerce').astype('Int64') + pd.to_numeric(sal_df['sal_max'], errors='coerce').astype('Int64')) / 2\n",
    "\n",
    "sal_df"
   ]
  },
  {
   "cell_type": "markdown",
   "metadata": {},
   "source": [
    "### merge dataset"
   ]
  },
  {
   "cell_type": "code",
   "execution_count": 93,
   "metadata": {},
   "outputs": [
    {
     "data": {
      "text/html": [
       "<div>\n",
       "<style scoped>\n",
       "    .dataframe tbody tr th:only-of-type {\n",
       "        vertical-align: middle;\n",
       "    }\n",
       "\n",
       "    .dataframe tbody tr th {\n",
       "        vertical-align: top;\n",
       "    }\n",
       "\n",
       "    .dataframe thead th {\n",
       "        text-align: right;\n",
       "    }\n",
       "</style>\n",
       "<table border=\"1\" class=\"dataframe\">\n",
       "  <thead>\n",
       "    <tr style=\"text-align: right;\">\n",
       "      <th></th>\n",
       "      <th>job_title</th>\n",
       "      <th>company_name</th>\n",
       "      <th>company_location</th>\n",
       "      <th>salary</th>\n",
       "      <th>salary_time</th>\n",
       "      <th>sal_min</th>\n",
       "      <th>sal_max</th>\n",
       "      <th>ave_salary</th>\n",
       "    </tr>\n",
       "  </thead>\n",
       "  <tbody>\n",
       "    <tr>\n",
       "      <th>0</th>\n",
       "      <td>Data Science Analyst (Remote)</td>\n",
       "      <td>Yelp</td>\n",
       "      <td>Remote in London</td>\n",
       "      <td>No Salary provided</td>\n",
       "      <td>NaN</td>\n",
       "      <td>NaN</td>\n",
       "      <td>NaN</td>\n",
       "      <td>&lt;NA&gt;</td>\n",
       "    </tr>\n",
       "    <tr>\n",
       "      <th>1</th>\n",
       "      <td>Junior Data Scientist / Analyst</td>\n",
       "      <td>EDF Trading</td>\n",
       "      <td>London</td>\n",
       "      <td>No Salary provided</td>\n",
       "      <td>NaN</td>\n",
       "      <td>NaN</td>\n",
       "      <td>NaN</td>\n",
       "      <td>&lt;NA&gt;</td>\n",
       "    </tr>\n",
       "    <tr>\n",
       "      <th>2</th>\n",
       "      <td>Data Analyst (1 year Fixed Term)</td>\n",
       "      <td>LSE Jobs</td>\n",
       "      <td>London WC2A</td>\n",
       "      <td>£37,197 - £44,802 a year</td>\n",
       "      <td>year</td>\n",
       "      <td>37197</td>\n",
       "      <td>44802</td>\n",
       "      <td>40999.5</td>\n",
       "    </tr>\n",
       "    <tr>\n",
       "      <th>3</th>\n",
       "      <td>Data Analyst</td>\n",
       "      <td>Motorway</td>\n",
       "      <td>London</td>\n",
       "      <td>No Salary provided</td>\n",
       "      <td>NaN</td>\n",
       "      <td>NaN</td>\n",
       "      <td>NaN</td>\n",
       "      <td>&lt;NA&gt;</td>\n",
       "    </tr>\n",
       "    <tr>\n",
       "      <th>4</th>\n",
       "      <td>Product Data Analyst</td>\n",
       "      <td>Metrica Recruitment</td>\n",
       "      <td>North London</td>\n",
       "      <td>£50,000 - £60,000 a year</td>\n",
       "      <td>year</td>\n",
       "      <td>50000</td>\n",
       "      <td>60000</td>\n",
       "      <td>55000.0</td>\n",
       "    </tr>\n",
       "    <tr>\n",
       "      <th>...</th>\n",
       "      <td>...</td>\n",
       "      <td>...</td>\n",
       "      <td>...</td>\n",
       "      <td>...</td>\n",
       "      <td>...</td>\n",
       "      <td>...</td>\n",
       "      <td>...</td>\n",
       "      <td>...</td>\n",
       "    </tr>\n",
       "    <tr>\n",
       "      <th>738</th>\n",
       "      <td>Senior Data Scientist</td>\n",
       "      <td>BP</td>\n",
       "      <td>London EC3N 3AX</td>\n",
       "      <td>No Salary provided</td>\n",
       "      <td>NaN</td>\n",
       "      <td>NaN</td>\n",
       "      <td>NaN</td>\n",
       "      <td>&lt;NA&gt;</td>\n",
       "    </tr>\n",
       "    <tr>\n",
       "      <th>755</th>\n",
       "      <td>Data Engineer/ Developer Analyst</td>\n",
       "      <td>BP</td>\n",
       "      <td>London EC3N 3AX</td>\n",
       "      <td>No Salary provided</td>\n",
       "      <td>NaN</td>\n",
       "      <td>NaN</td>\n",
       "      <td>NaN</td>\n",
       "      <td>&lt;NA&gt;</td>\n",
       "    </tr>\n",
       "    <tr>\n",
       "      <th>776</th>\n",
       "      <td>Specialty - Head of Software Development</td>\n",
       "      <td>Gallagher</td>\n",
       "      <td>London</td>\n",
       "      <td>No Salary provided</td>\n",
       "      <td>NaN</td>\n",
       "      <td>NaN</td>\n",
       "      <td>NaN</td>\n",
       "      <td>&lt;NA&gt;</td>\n",
       "    </tr>\n",
       "    <tr>\n",
       "      <th>804</th>\n",
       "      <td>Global Customer Operations Product Owner</td>\n",
       "      <td>BP</td>\n",
       "      <td>London EC3N 3AX</td>\n",
       "      <td>No Salary provided</td>\n",
       "      <td>NaN</td>\n",
       "      <td>NaN</td>\n",
       "      <td>NaN</td>\n",
       "      <td>&lt;NA&gt;</td>\n",
       "    </tr>\n",
       "    <tr>\n",
       "      <th>890</th>\n",
       "      <td>Python Developer</td>\n",
       "      <td>Curve Analytics</td>\n",
       "      <td>London</td>\n",
       "      <td>£35,000 - £55,000 a year</td>\n",
       "      <td>year</td>\n",
       "      <td>35000</td>\n",
       "      <td>55000</td>\n",
       "      <td>45000.0</td>\n",
       "    </tr>\n",
       "  </tbody>\n",
       "</table>\n",
       "<p>181 rows × 8 columns</p>\n",
       "</div>"
      ],
      "text/plain": [
       "                                    job_title         company_name  \\\n",
       "0               Data Science Analyst (Remote)                 Yelp   \n",
       "1             Junior Data Scientist / Analyst          EDF Trading   \n",
       "2            Data Analyst (1 year Fixed Term)             LSE Jobs   \n",
       "3                                Data Analyst             Motorway   \n",
       "4                        Product Data Analyst  Metrica Recruitment   \n",
       "..                                        ...                  ...   \n",
       "738                     Senior Data Scientist                   BP   \n",
       "755          Data Engineer/ Developer Analyst                   BP   \n",
       "776  Specialty - Head of Software Development            Gallagher   \n",
       "804  Global Customer Operations Product Owner                   BP   \n",
       "890                          Python Developer      Curve Analytics   \n",
       "\n",
       "     company_location                    salary salary_time sal_min sal_max  \\\n",
       "0    Remote in London        No Salary provided         NaN     NaN     NaN   \n",
       "1              London        No Salary provided         NaN     NaN     NaN   \n",
       "2         London WC2A  £37,197 - £44,802 a year        year   37197   44802   \n",
       "3              London        No Salary provided         NaN     NaN     NaN   \n",
       "4        North London  £50,000 - £60,000 a year        year   50000   60000   \n",
       "..                ...                       ...         ...     ...     ...   \n",
       "738   London EC3N 3AX        No Salary provided         NaN     NaN     NaN   \n",
       "755   London EC3N 3AX        No Salary provided         NaN     NaN     NaN   \n",
       "776            London        No Salary provided         NaN     NaN     NaN   \n",
       "804   London EC3N 3AX        No Salary provided         NaN     NaN     NaN   \n",
       "890            London  £35,000 - £55,000 a year        year   35000   55000   \n",
       "\n",
       "     ave_salary  \n",
       "0          <NA>  \n",
       "1          <NA>  \n",
       "2       40999.5  \n",
       "3          <NA>  \n",
       "4       55000.0  \n",
       "..          ...  \n",
       "738        <NA>  \n",
       "755        <NA>  \n",
       "776        <NA>  \n",
       "804        <NA>  \n",
       "890     45000.0  \n",
       "\n",
       "[181 rows x 8 columns]"
      ]
     },
     "execution_count": 93,
     "metadata": {},
     "output_type": "execute_result"
    }
   ],
   "source": [
    "df_final = pd.concat([df, sal_df], axis=1)\n",
    "df_final"
   ]
  },
  {
   "cell_type": "markdown",
   "metadata": {},
   "source": [
    "### Fill blank ave_salary with the median - CONDITIONAL step"
   ]
  },
  {
   "cell_type": "code",
   "execution_count": 94,
   "metadata": {},
   "outputs": [],
   "source": [
    "# df_final['ave_salary'] = df_final['ave_salary'].fillna(df_final['ave_salary'].median())"
   ]
  },
  {
   "cell_type": "markdown",
   "metadata": {},
   "source": [
    "## Analysis full time jobs"
   ]
  },
  {
   "cell_type": "markdown",
   "metadata": {},
   "source": [
    "#### Salary"
   ]
  },
  {
   "cell_type": "code",
   "execution_count": 95,
   "metadata": {},
   "outputs": [
    {
     "name": "stdout",
     "output_type": "stream",
     "text": [
      "(43, 8)\n"
     ]
    },
    {
     "data": {
      "image/png": "[encoded data removed]",
      "text/plain": [
       "<Figure size 432x288 with 1 Axes>"
      ]
     },
     "metadata": {
      "needs_background": "light"
     },
     "output_type": "display_data"
    }
   ],
   "source": [
    "print(df_final.query(\"salary_time == 'year'\").shape)\n",
    "df_final.query(\"salary_time == 'year' & ave_salary == ave_salary\").plot(kind='hist', title='Average salary');"
   ]
  },
  {
   "cell_type": "code",
   "execution_count": 96,
   "metadata": {},
   "outputs": [
    {
     "name": "stdout",
     "output_type": "stream",
     "text": [
      "(43, 8)\n"
     ]
    },
    {
     "data": {
      "image/png": "[encoded data removed]",
      "text/plain": [
       "<Figure size 432x288 with 1 Axes>"
      ]
     },
     "metadata": {
      "needs_background": "light"
     },
     "output_type": "display_data"
    }
   ],
   "source": [
    "print(df_final.query(\"salary_time == 'year'\").shape)\n",
    "df_final.query(\"salary_time == 'year' & ave_salary == ave_salary\").plot(kind='box', title='Average salary');"
   ]
  },
  {
   "cell_type": "code",
   "execution_count": 97,
   "metadata": {},
   "outputs": [
    {
     "data": {
      "text/html": [
       "<div>\n",
       "<style scoped>\n",
       "    .dataframe tbody tr th:only-of-type {\n",
       "        vertical-align: middle;\n",
       "    }\n",
       "\n",
       "    .dataframe tbody tr th {\n",
       "        vertical-align: top;\n",
       "    }\n",
       "\n",
       "    .dataframe thead th {\n",
       "        text-align: right;\n",
       "    }\n",
       "</style>\n",
       "<table border=\"1\" class=\"dataframe\">\n",
       "  <thead>\n",
       "    <tr style=\"text-align: right;\">\n",
       "      <th></th>\n",
       "      <th>ave_salary</th>\n",
       "    </tr>\n",
       "  </thead>\n",
       "  <tbody>\n",
       "    <tr>\n",
       "      <th>count</th>\n",
       "      <td>35.000000</td>\n",
       "    </tr>\n",
       "    <tr>\n",
       "      <th>mean</th>\n",
       "      <td>51862.357143</td>\n",
       "    </tr>\n",
       "    <tr>\n",
       "      <th>std</th>\n",
       "      <td>20990.441332</td>\n",
       "    </tr>\n",
       "    <tr>\n",
       "      <th>min</th>\n",
       "      <td>24000.000000</td>\n",
       "    </tr>\n",
       "    <tr>\n",
       "      <th>25%</th>\n",
       "      <td>35000.000000</td>\n",
       "    </tr>\n",
       "    <tr>\n",
       "      <th>50%</th>\n",
       "      <td>50000.000000</td>\n",
       "    </tr>\n",
       "    <tr>\n",
       "      <th>75%</th>\n",
       "      <td>57500.000000</td>\n",
       "    </tr>\n",
       "    <tr>\n",
       "      <th>max</th>\n",
       "      <td>111500.000000</td>\n",
       "    </tr>\n",
       "  </tbody>\n",
       "</table>\n",
       "</div>"
      ],
      "text/plain": [
       "          ave_salary\n",
       "count      35.000000\n",
       "mean    51862.357143\n",
       "std     20990.441332\n",
       "min     24000.000000\n",
       "25%     35000.000000\n",
       "50%     50000.000000\n",
       "75%     57500.000000\n",
       "max    111500.000000"
      ]
     },
     "execution_count": 97,
     "metadata": {},
     "output_type": "execute_result"
    }
   ],
   "source": [
    "df_final.describe()"
   ]
  },
  {
   "cell_type": "markdown",
   "metadata": {},
   "source": [
    "## Analysis contract type jobs"
   ]
  },
  {
   "cell_type": "markdown",
   "metadata": {},
   "source": [
    "#### Salary"
   ]
  },
  {
   "cell_type": "code",
   "execution_count": 98,
   "metadata": {},
   "outputs": [
    {
     "name": "stdout",
     "output_type": "stream",
     "text": [
      "(0, 8)\n"
     ]
    },
    {
     "data": {
      "image/png": "[encoded data removed]",
      "text/plain": [
       "<Figure size 432x288 with 1 Axes>"
      ]
     },
     "metadata": {
      "needs_background": "light"
     },
     "output_type": "display_data"
    }
   ],
   "source": [
    "print(df_final.query(\"salary_time == 'hour'\").shape)\n",
    "df_final.query(\"salary_time == 'hour' & ave_salary == ave_salary\").plot(kind='hist');"
   ]
  },
  {
   "cell_type": "code",
   "execution_count": 99,
   "metadata": {},
   "outputs": [
    {
     "name": "stdout",
     "output_type": "stream",
     "text": [
      "(0, 8)\n"
     ]
    },
    {
     "data": {
      "image/png": "[encoded data removed]",
      "text/plain": [
       "<Figure size 432x288 with 1 Axes>"
      ]
     },
     "metadata": {
      "needs_background": "light"
     },
     "output_type": "display_data"
    }
   ],
   "source": [
    "print(df_final.query(\"salary_time == 'hour'\").shape)\n",
    "df_final.query(\"salary_time == 'hour' & ave_salary == ave_salary\").plot(kind='box');"
   ]
  },
  {
   "cell_type": "markdown",
   "metadata": {},
   "source": [
    "### Company"
   ]
  },
  {
   "cell_type": "code",
   "execution_count": null,
   "metadata": {},
   "outputs": [],
   "source": []
  },
  {
   "cell_type": "code",
   "execution_count": null,
   "metadata": {},
   "outputs": [],
   "source": []
  },
  {
   "cell_type": "code",
   "execution_count": null,
   "metadata": {},
   "outputs": [],
   "source": []
  }
 ],
 "metadata": {
  "interpreter": {
   "hash": "fc9057596245d7535fa07eedd95154ffc92e0f515bc2c4104d7d4a08bfa9ae7a"
  },
  "kernelspec": {
   "display_name": "Python 3.9.0 64-bit",
   "language": "python",
   "name": "python3"
  },
  "language_info": {
   "codemirror_mode": {
    "name": "ipython",
    "version": 3
   },
   "file_extension": ".py",
   "mimetype": "text/x-python",
   "name": "python",
   "nbconvert_exporter": "python",
   "pygments_lexer": "ipython3",
   "version": "3.9.0"
  },
  "orig_nbformat": 4
 },
 "nbformat": 4,
 "nbformat_minor": 2
}
